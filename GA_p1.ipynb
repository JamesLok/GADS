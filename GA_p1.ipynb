{
 "cells": [
  {
   "cell_type": "code",
   "execution_count": 1,
   "metadata": {
    "collapsed": true
   },
   "outputs": [],
   "source": [
    "#Part 1\n",
    "\n",
    "import pandas as pd\n",
    "\n",
    "#read data and header file\n",
    "field_name = pd.read_csv('./field_names.txt',header=None)\n",
    "data = pd.read_csv('./breast-cancer.csv',header=None, names=list(field_name[0]))"
   ]
  },
  {
   "cell_type": "code",
   "execution_count": 7,
   "metadata": {
    "collapsed": false
   },
   "outputs": [
    {
     "data": {
      "text/html": [
       "<div>\n",
       "<table border=\"1\" class=\"dataframe\">\n",
       "  <thead>\n",
       "    <tr style=\"text-align: right;\">\n",
       "      <th></th>\n",
       "      <th>smoothness_mean</th>\n",
       "      <th>compactness_mean</th>\n",
       "    </tr>\n",
       "    <tr>\n",
       "      <th>diagnosis</th>\n",
       "      <th></th>\n",
       "      <th></th>\n",
       "    </tr>\n",
       "  </thead>\n",
       "  <tbody>\n",
       "    <tr>\n",
       "      <th>B</th>\n",
       "      <td>2.000321</td>\n",
       "      <td>0.021438</td>\n",
       "    </tr>\n",
       "    <tr>\n",
       "      <th>M</th>\n",
       "      <td>4.323929</td>\n",
       "      <td>0.032281</td>\n",
       "    </tr>\n",
       "  </tbody>\n",
       "</table>\n",
       "</div>"
      ],
      "text/plain": [
       "           smoothness_mean  compactness_mean\n",
       "diagnosis                                   \n",
       "B                 2.000321          0.021438\n",
       "M                 4.323929          0.032281"
      ]
     },
     "execution_count": 7,
     "metadata": {},
     "output_type": "execute_result"
    }
   ],
   "source": [
    "#compute smoothness and compactness mean for benign and malignant tumors \n",
    "data.groupby('diagnosis')['smoothness_mean', 'compactness_mean'].mean()"
   ]
  },
  {
   "cell_type": "code",
   "execution_count": 8,
   "metadata": {
    "collapsed": false
   },
   "outputs": [
    {
     "data": {
      "text/html": [
       "<div>\n",
       "<table border=\"1\" class=\"dataframe\">\n",
       "  <thead>\n",
       "    <tr style=\"text-align: right;\">\n",
       "      <th></th>\n",
       "      <th>smoothness_mean</th>\n",
       "      <th>compactness_mean</th>\n",
       "    </tr>\n",
       "    <tr>\n",
       "      <th>diagnosis</th>\n",
       "      <th></th>\n",
       "      <th></th>\n",
       "    </tr>\n",
       "  </thead>\n",
       "  <tbody>\n",
       "    <tr>\n",
       "      <th>B</th>\n",
       "      <td>1.8510</td>\n",
       "      <td>0.01631</td>\n",
       "    </tr>\n",
       "    <tr>\n",
       "      <th>M</th>\n",
       "      <td>3.6795</td>\n",
       "      <td>0.02859</td>\n",
       "    </tr>\n",
       "  </tbody>\n",
       "</table>\n",
       "</div>"
      ],
      "text/plain": [
       "           smoothness_mean  compactness_mean\n",
       "diagnosis                                   \n",
       "B                   1.8510           0.01631\n",
       "M                   3.6795           0.02859"
      ]
     },
     "execution_count": 8,
     "metadata": {},
     "output_type": "execute_result"
    }
   ],
   "source": [
    "#compute smoothness and compactness median for benign and malignant tumors\n",
    "data.groupby('diagnosis')['smoothness_mean','compactness_mean'].median()"
   ]
  },
  {
   "cell_type": "code",
   "execution_count": 9,
   "metadata": {
    "collapsed": false
   },
   "outputs": [
    {
     "data": {
      "image/png": "[encoded data removed]",
      "text/plain": [
       "<matplotlib.figure.Figure at 0x11adcba50>"
      ]
     },
     "metadata": {},
     "output_type": "display_data"
    },
    {
     "data": {
      "image/png": "[encoded data removed]",
      "text/plain": [
       "<matplotlib.figure.Figure at 0x11adcba90>"
      ]
     },
     "metadata": {},
     "output_type": "display_data"
    }
   ],
   "source": [
    "# Boxplot of smoothness and compactness fro benign and malignant tumors\n",
    "import matplotlib.pyplot as plt\n",
    "\n",
    "data.boxplot(column=['smoothness_mean'], by='diagnosis')\n",
    "data.boxplot(column=['compactness_mean'], by='diagnosis')\n",
    "\n",
    "plt.show()"
   ]
  },
  {
   "cell_type": "code",
   "execution_count": 6,
   "metadata": {
    "collapsed": false
   },
   "outputs": [
    {
     "data": {
      "text/plain": [
       "Ttest_indResult(statistic=-15.934158019257902, pvalue=1.6519051758498057e-47)"
      ]
     },
     "execution_count": 6,
     "metadata": {},
     "output_type": "execute_result"
    }
   ],
   "source": [
    "from scipy.stats import ttest_ind\n",
    "\n",
    "data_B = data[data['diagnosis']=='B']\n",
    "data_M = data[data['diagnosis']=='M']\n",
    "\n",
    "# t-test of smoonthness and their means are significantly different\n",
    "ttest_ind(data_B['smoothness_mean'], data_M['smoothness_mean'])"
   ]
  },
  {
   "cell_type": "code",
   "execution_count": 10,
   "metadata": {
    "collapsed": false
   },
   "outputs": [
    {
     "data": {
      "text/plain": [
       "Ttest_indResult(statistic=-7.2970774374485305, pvalue=9.975994654074587e-13)"
      ]
     },
     "execution_count": 10,
     "metadata": {},
     "output_type": "execute_result"
    }
   ],
   "source": [
    "# t-test of compactness and their means are significantly different\n",
    "ttest_ind(data_B['compactness_mean'], data_M['compactness_mean'])"
   ]
  },
  {
   "cell_type": "code",
   "execution_count": 11,
   "metadata": {
    "collapsed": false
   },
   "outputs": [
    {
     "data": {
      "text/plain": [
       "(1000, 32)"
      ]
     },
     "execution_count": 11,
     "metadata": {},
     "output_type": "execute_result"
    }
   ],
   "source": [
    "# bootstrapping function\n",
    "\n",
    "import numpy as np\n",
    "\n",
    "def bootstrap(data, num_samples=100):\n",
    "    return data.iloc[np.random.choice(data.shape[1],num_samples)]\n",
    "\n",
    "bootD = bootstrap(data,num_samples=1000)\n",
    "bootD.shape"
   ]
  },
  {
   "cell_type": "code",
   "execution_count": 12,
   "metadata": {
    "collapsed": false
   },
   "outputs": [
    {
     "data": {
      "image/png": "[encoded data removed]",
      "text/plain": [
       "<matplotlib.figure.Figure at 0x11b74cd50>"
      ]
     },
     "metadata": {},
     "output_type": "display_data"
    }
   ],
   "source": [
    "from sklearn.feature_selection import SelectKBest\n",
    "from sklearn.feature_selection import chi2\n",
    "X, y = data.iloc[:,2:], data.iloc[:,1]\n",
    "\n",
    "#use univariate feature selection to identify two best features\n",
    "Kbest = SelectKBest(chi2, k=2).fit(X, y)\n",
    "\n",
    "XKbest = X.iloc[:,Kbest.get_support()]\n",
    "\n",
    "#explore the relationship. The figure shows the two variables (texture_mean and concave_points_worst) are highly linear correlated\n",
    "\n",
    "plt.scatter(XKbest[y==\"M\"][[0]], XKbest[y==\"M\"][[1]], marker='^',c='red',label='Malignant')\n",
    "plt.scatter(XKbest[y==\"B\"][[0]], XKbest[y==\"B\"][[1]], marker='o',c='green',label='Benign')\n",
    "plt.xlabel(XKbest.columns[0])\n",
    "plt.ylabel(XKbest.columns[1])\n",
    "plt.legend()\n",
    "\n",
    "plt.show()"
   ]
  },
  {
   "cell_type": "code",
   "execution_count": 13,
   "metadata": {
    "collapsed": false
   },
   "outputs": [
    {
     "data": {
      "text/plain": [
       "Index([u'texture_mean', u'concave_points_worst'], dtype='object')"
      ]
     },
     "execution_count": 13,
     "metadata": {},
     "output_type": "execute_result"
    }
   ],
   "source": [
    "XKbest.columns"
   ]
  },
  {
   "cell_type": "code",
   "execution_count": 14,
   "metadata": {
    "collapsed": true
   },
   "outputs": [],
   "source": [
    "# modelling - preprocessing: standardize predictors\n",
    "from sklearn.linear_model import LogisticRegression\n",
    "from sklearn import metrics\n",
    "from sklearn.model_selection import train_test_split\n",
    "from sklearn.preprocessing import label_binarize\n",
    "from sklearn import preprocessing\n",
    "\n",
    "X, y = data.iloc[:,2:], data.iloc[:,1]\n",
    "\n",
    "y = label_binarize(y, classes=[\"B\",\"M\"])\n",
    "\n",
    "X_train, X_test, y_train, y_test = train_test_split(X, y, test_size=0.3, random_state=0)\n",
    "y_train = y_train.ravel()\n",
    "y_test = y_test.ravel()\n",
    "\n",
    "scaler = preprocessing.StandardScaler().fit(X_train)\n",
    "X_train = scaler.transform(X_train) \n",
    "X_test = scaler.transform(X_test) \n",
    "\n"
   ]
  },
  {
   "cell_type": "code",
   "execution_count": 15,
   "metadata": {
    "collapsed": false
   },
   "outputs": [
    {
     "data": {
      "text/plain": [
       "LogisticRegression(C=1.0, class_weight=None, dual=False, fit_intercept=True,\n",
       "          intercept_scaling=1, max_iter=100, multi_class='ovr', n_jobs=1,\n",
       "          penalty='l2', random_state=None, solver='liblinear', tol=0.0001,\n",
       "          verbose=0, warm_start=False)"
      ]
     },
     "execution_count": 15,
     "metadata": {},
     "output_type": "execute_result"
    }
   ],
   "source": [
    "# Model 1: Logistic Regression\n",
    "# Use L2 penalty to control overfitting\n",
    "logreg = LogisticRegression(penalty='l2')\n",
    "logreg.fit(X_train, y_train)"
   ]
  },
  {
   "cell_type": "code",
   "execution_count": 17,
   "metadata": {
    "collapsed": false
   },
   "outputs": [
    {
     "name": "stdout",
     "output_type": "stream",
     "text": [
      "0.9939741328630217\n",
      "0.9978167704374545\n"
     ]
    },
    {
     "data": {
      "image/png": "[encoded data removed]",
      "text/plain": [
       "<matplotlib.figure.Figure at 0x11b7ba990>"
      ]
     },
     "metadata": {},
     "output_type": "display_data"
    }
   ],
   "source": [
    "# evaluate Model 1 using AUC and ROC curves\n",
    "\n",
    "from sklearn.metrics import roc_auc_score\n",
    "from sklearn.metrics import roc_curve, auc, roc_auc_score\n",
    "\n",
    "fpr_test, tpr_test, _ = roc_curve(y_test, logreg.predict_proba(X_test)[:,1])\n",
    "fpr_train, tpr_train, _ = roc_curve(y_train, logreg.predict_proba(X_train)[:,1])\n",
    "\n",
    "print auc(fpr_test, tpr_test)\n",
    "\n",
    "print auc(fpr_train, tpr_train)\n",
    "\n",
    "#ROC curve\n",
    "# AUC values for training and testing are close 1 and don't differ a lot. This shows the model works well (not over-fitted or under-fitted) \n",
    "plt.figure()\n",
    "plt.plot(fpr_test, tpr_test, label='test')\n",
    "plt.plot(fpr_train, tpr_train, color='darkorange',label='train')\n",
    "plt.plot([0, 1], [0, 1],'r--')\n",
    "plt.xlim([0.0, 1.0])\n",
    "plt.ylim([0.0, 1.05])\n",
    "plt.xlabel('False Positive Rate')\n",
    "plt.ylabel('True Positive Rate')\n",
    "plt.title('Receiver operating characteristic')\n",
    "plt.legend(loc=\"lower right\")\n",
    "plt.savefig('Log_ROC')\n",
    "plt.show()"
   ]
  },
  {
   "cell_type": "code",
   "execution_count": 18,
   "metadata": {
    "collapsed": false
   },
   "outputs": [
    {
     "data": {
      "text/plain": [
       "'area_sd_error'"
      ]
     },
     "execution_count": 18,
     "metadata": {},
     "output_type": "execute_result"
    }
   ],
   "source": [
    "#idenify the most important variable by the standardized coefficients\n",
    "X.columns[np.argmax(np.abs(logreg.coef_))]"
   ]
  },
  {
   "cell_type": "code",
   "execution_count": 20,
   "metadata": {
    "collapsed": false
   },
   "outputs": [
    {
     "name": "stdout",
     "output_type": "stream",
     "text": [
      "0.9958847736625513\n",
      "1.0\n"
     ]
    }
   ],
   "source": [
    "# Model 2: Random Forest\n",
    "# RF can limit overfitting by adding randomness into the data, i.e. random choosing variables to grow the tree and bootstrapping samples\n",
    "# By tweaking the parameters such as minimum size of terminal nodes etc, we can control the overfitting \n",
    "from sklearn.ensemble import RandomForestClassifier\n",
    "\n",
    "clf = RandomForestClassifier(n_estimators=1000, max_depth=10, min_samples_split = 5, random_state=0)\n",
    "clf.fit(X_train, y_train)\n",
    "\n",
    "from sklearn.metrics import roc_auc_score\n",
    "from sklearn.metrics import roc_curve, auc, roc_auc_score\n",
    "\n",
    "\n",
    "# evaluate Model 2 using AUC\n",
    "# The clasifier works not bad\n",
    "\n",
    "fpr_test, tpr_test, _ = roc_curve(y_test, clf.predict_proba(X_test)[:,1])\n",
    "fpr_train, tpr_train, _ = roc_curve(y_train, clf.predict_proba(X_train)[:,1])\n",
    "\n",
    "print auc(fpr_test, tpr_test)\n",
    "\n",
    "print auc(fpr_train, tpr_train)\n"
   ]
  },
  {
   "cell_type": "code",
   "execution_count": 21,
   "metadata": {
    "collapsed": false
   },
   "outputs": [
    {
     "data": {
      "text/plain": [
       "'fractal_dimension_mean'"
      ]
     },
     "execution_count": 21,
     "metadata": {},
     "output_type": "execute_result"
    }
   ],
   "source": [
    "# Random Forest gives the importance of variables\n",
    "X.columns[np.argmax(clf.feature_importances_)]"
   ]
  },
  {
   "cell_type": "code",
   "execution_count": 22,
   "metadata": {
    "collapsed": true
   },
   "outputs": [],
   "source": [
    "# Explanation\n",
    "\n",
    "#limitation\n",
    "# For logistic regression, the corrleation between predictors are not accounted for, this may affect the coefficient estimation. It is possible to use PCR to furter enhance the analysis.\n",
    "# For random forest, the parameters may not be optimal. We may use CV to further tweak the hyper-parmameters\n",
    "\n"
   ]
  },
  {
   "cell_type": "code",
   "execution_count": null,
   "metadata": {
    "collapsed": true
   },
   "outputs": [],
   "source": [
    "#Part 2\n",
    "\n",
    "\n",
    "\n",
    "#Student Sample 1 .py\n",
    "\n",
    "#!/usr/bin/env python\n",
    "\n",
    "import pandas as pd\n",
    "import numpy as np\n",
    "from sklearn import LinearRegression # Wrong Inport. LinearRegression is under sklearn.linear_model module.\n",
    "from sklearn.cross_validation import cross_val_score\n",
    "\n",
    "# Load data\n",
    "d = pd.read_csv('./data.train.csv')\n",
    "\n",
    "\n",
    "# Setup data for prediction\n",
    "x1 = data.SalaryNormalized  # Here, data is not defined. It should be d.   x1 is normally used to represent independent variable (predictor) instead of dependent variable (response)\n",
    "x2 = pd.get_dummies(data.ContractType) #There are missing values in the data. may need to consider whether missing values can be treated as a seperate level or whether imputation is possible\n",
    "#Notice the dummy variable trap. The dummy variables created by default are multicollinear. Consider to drop one of them.\n",
    "\n",
    "\n",
    "# Setup model\n",
    "model = LinearRegression()\n",
    "\n",
    "# Evaluate model\n",
    "from sklearn.cross_validation import cross_val_score\n",
    "from sklearn.cross_validation import train_test_split\n",
    "scores = cross_val_score(model, x2, x1, cv=1, scoring='mean_absolute_error') #cross validation need to split data at least to two, i.e. cv >= 2\n",
    "print(scores.mean())\n",
    "\n",
    "\n",
    "\n",
    "#----------------------------------------------------------------------------\n",
    "\n",
    "# Student Sample 2 .py\n",
    "#!/usr/bin/env python\n",
    "\n",
    "import pandas as pd\n",
    "import numpy as np\n",
    "from sklearn.linear_model import LinearRegression\n",
    "from sklearn.cross_validation import cross_val_score\n",
    "\n",
    "# Load data\n",
    "data = pd.read_csv('../data/train.csv')\n",
    "\n",
    "\n",
    "# Setup data for prediction\n",
    "y = data.SalaryNormalized\n",
    "X = pd.get_dummies(data.ContractType) \n",
    "#1.There are missing values in the data. may need to consider whether missing values can be treated as a seperate level or whether imputation is possible\n",
    "#2.Notice the dummy variable trap. The dummy variables created by default are multicollinear. Consider to drop one of them.\n",
    "\n",
    "\n",
    "\n",
    "# Setup model\n",
    "model = LinearRegression()\n",
    "\n",
    "# Evaluate model\n",
    "scores = cross_val_score(model, X, y, cv=5, scoring='mean_absolute_error')\n",
    "print(scores.mean())\n",
    "\n"
   ]
  }
 ],
 "metadata": {
  "kernelspec": {
   "display_name": "Python 2",
   "language": "python",
   "name": "python2"
  },
  "language_info": {
   "codemirror_mode": {
    "name": "ipython",
    "version": 2
   },
   "file_extension": ".py",
   "mimetype": "text/x-python",
   "name": "python",
   "nbconvert_exporter": "python",
   "pygments_lexer": "ipython2",
   "version": "2.7.13"
  }
 },
 "nbformat": 4,
 "nbformat_minor": 2
}
